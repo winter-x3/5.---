{
 "cells": [
  {
   "cell_type": "code",
   "execution_count": 43,
   "metadata": {},
   "outputs": [],
   "source": [
    "#용량이 너무 크니까 5개 씩만 가져와서 따로 저장\n",
    "IMAGE_PATH = 'Data/IMAGE/'  # 이미지 파일들이 들어있는 경로\n",
    "JSON_PATH = 'Data/JSON/'  # JSON 파일들이 들어있는 경로\n",
    "SAVE_PATH = 'Data/metadata/'  # 결과 파일을 저장할 경로"
   ]
  },
  {
   "cell_type": "code",
   "execution_count": 44,
   "metadata": {},
   "outputs": [],
   "source": [
    "import json\n",
    "import numpy as np\n",
    "import pandas as pd\n",
    "import os\n",
    "from tqdm import tqdm"
   ]
  },
  {
   "cell_type": "markdown",
   "metadata": {},
   "source": [
    "chart_data(data) : JSON 파일의 정보를 리스트로 저장"
   ]
  },
  {
   "cell_type": "code",
   "execution_count": 45,
   "metadata": {},
   "outputs": [],
   "source": [
    "def chart_data(data):\n",
    "    datatable = []    \n",
    "    num = len(data)\n",
    "    for n in range(num):\n",
    "        title = data[n]['title'] if data[n]['is_title'] else ''\n",
    "        legend = data[n]['legend'] if data[n]['is_legend'] else ''\n",
    "        datalabel = data[n]['data_label'] if data[n]['is_datalabel'] else [0]\n",
    "        unit = data[n]['unit'] if data[n]['is_unit'] else ''\n",
    "        base = data[n]['base'] if data[n]['is_base'] else ''\n",
    "        x_axis_title = data[n]['axis_title']['x_axis']\n",
    "        y_axis_title = data[n]['axis_title']['y_axis']\n",
    "        x_axis = data[n]['axis_label']['x_axis'] if data[n]['is_axis_label_x_axis'] else [0]\n",
    "        y_axis = data[n]['axis_label']['y_axis'] if data[n]['is_axis_label_y_axis'] else [0]\n",
    "        \n",
    "        if len(legend) > 1:\n",
    "            datalabel = np.array(datalabel).transpose().tolist()          \n",
    "                \n",
    "        datatable.append([title, legend, datalabel, unit, base, x_axis_title, y_axis_title, x_axis, y_axis])\n",
    "        \n",
    "    return datatable"
   ]
  },
  {
   "cell_type": "markdown",
   "metadata": {},
   "source": [
    "datatable(data, chart_type) :    \n",
    "chart_data()에서 변환된 리스트를 사용할 수 있는 텍스트의 형태로 변환    \n",
    "(원형 차트만 다룰 것이니 나의 경우 chart_type는 모두 2)"
   ]
  },
  {
   "cell_type": "code",
   "execution_count": 46,
   "metadata": {},
   "outputs": [],
   "source": [
    "def datatable(data, chart_type):\n",
    "    data_table = ''\n",
    "    num = len(data)\n",
    "    \n",
    "    #차트가 두 개의 그룹인 경우\n",
    "    if len(data)  == 2:\n",
    "        temp = []\n",
    "        temp.append(f\"대상: {data[0][4]}\")\n",
    "        temp.append(f\"제목: {data[0][0]}\")\n",
    "        temp.append(f\"유형: {' '.join(chart_type[0:2])}\")\n",
    "        temp.append(f\"{data[0][5]} | {data[0][1][0]}({data[0][3]}) | {data[1][1][0]}({data[1][3]})\")\n",
    "    \n",
    "        x_axis = data[0][7]\n",
    "        for idx, x in enumerate(x_axis):\n",
    "            temp.append(f\"{x} | {data[0][2][0][idx]} | {data[1][2][0][idx]}\")\n",
    "            \n",
    "        data_table = '\\n'.join(temp)\n",
    "\n",
    "    #차트가 여러 개의 그룹인 경우    \n",
    "    else:\n",
    "        for n in range(num):\n",
    "            temp = []\n",
    "            \n",
    "            title, legend, datalabel, unit, base, x_axis_title, y_axis_title, x_axis, y_axis = data[n]\n",
    "            legend = [element + f\"({unit})\" for element in legend]\n",
    "            \n",
    "            #세로 막대형일 때\n",
    "            if len(legend) > 1:\n",
    "                temp.append(f\"대상: {base}\")\n",
    "                temp.append(f\"제목: {title}\")\n",
    "                temp.append(f\"유형: {' '.join(chart_type[0:2])}\")\n",
    "                temp.append(f\"{x_axis_title} | {' | '.join(legend)}\")\n",
    "                \n",
    "                #원형 차트일 때\n",
    "                if chart_type[2] == \"원형\":\n",
    "                    datalabel = sum(datalabel, [])\n",
    "                    temp.append(f\"{' | '.join([str(d) for d in datalabel])}\")\n",
    "                    data_table = '\\n'.join(temp)\n",
    "                \n",
    "                #가로 막대형일 때\n",
    "                else:\n",
    "                    axis = y_axis if chart_type[2] == \"가로 막대형\" else x_axis\n",
    "                    for idx, (x, d) in enumerate(zip(axis, datalabel)):\n",
    "                        temp_d = [str(e) for e in d]\n",
    "                        temp_d = \" | \".join(temp_d)\n",
    "                        row = f\"{x} | {temp_d}\"\n",
    "                        temp.append(row)\n",
    "                    data_table = '\\n'.join(temp)\n",
    "            \n",
    "            #나머지 차트 형태일 때\n",
    "            else:\n",
    "                temp.append(f\"대상: {base}\")\n",
    "                temp.append(f\"제목: {title}\")\n",
    "                temp.append(f\"유형: {' '.join(chart_type[0:2])}\")\n",
    "                temp.append(f\"{x_axis_title} | {unit}\")\n",
    "                \n",
    "                axis = y_axis if chart_type[2] == \"가로 막대형\" else x_axis\n",
    "                datalabel = datalabel[0]\n",
    "                \n",
    "                for idx, x in enumerate(axis):\n",
    "                    row = f\"{x} | {str(datalabel[idx])}\"\n",
    "                    temp.append(row)\n",
    "                data_table = '\\n'.join(temp)\n",
    "    \n",
    "    return data_table"
   ]
  },
  {
   "cell_type": "markdown",
   "metadata": {},
   "source": [
    "main(IMAGE_PATH, JSON_PATH, SAVE_PATH): 데이터 파일을 가져오고, 위의 함수들 실행"
   ]
  },
  {
   "cell_type": "code",
   "execution_count": 47,
   "metadata": {},
   "outputs": [],
   "source": [
    "def main(IMAGE_PATH, JSON_PATH, SAVE_PATH):\n",
    "    #이미지 파일을 가져옴\n",
    "    image_file_list = os.listdir(IMAGE_PATH) \n",
    "    \n",
    "    dataset = []\n",
    "    for image_file in tqdm(image_file_list):\n",
    "        #이미지 파일에 대응하는 JSON 파일을 가져옴\n",
    "        data_id = image_file.split(\".jpg\")[0]\n",
    "        json_file_name = image_file.replace(\"Source\", \"Label\").split(\".jpg\")[0] + \".json\"\n",
    "        \n",
    "        with open(JSON_PATH + json_file_name, \"r\") as f:\n",
    "            json_data = json.load(f)\n",
    "        \n",
    "        #차트 유형 정보를 가져옴\n",
    "        chart_multi = json_data['metadata']['chart_multi']\n",
    "        chart_main = json_data['metadata']['chart_main']\n",
    "        chart_sub = json_data['metadata']['chart_sub']\n",
    "        chart_type = [chart_multi, chart_sub, chart_main]\n",
    "        \n",
    "        #라벨링데이터의 설명문과 요약문을 불러옴\n",
    "        chart_annotations = json_data['annotations']\n",
    "        description = \"설명: \" + json_data[\"description\"].strip()\n",
    "        summary = \"요약: \" + \"\\\\\".join(json_data[\"summary\"])\n",
    "        texts = description + \"\\n\" + summary\n",
    "        \n",
    "        #차트 데이터를 리스트로 불러오기\n",
    "        try:\n",
    "            charData = chart_data(chart_annotations)\n",
    "        except:\n",
    "            pass\n",
    "        \n",
    "        #차트 데이터를 텍스트로 가져옴\n",
    "        try:\n",
    "            dataTable = datatable(charData, chart_type)\n",
    "            dataset.append([image_file, dataTable, texts, data_id])\n",
    "        except:\n",
    "            pass\n",
    "    \n",
    "    df = pd.DataFrame(dataset, columns=[\"file_name\", \"text\", \"description\", \"data_id\"])\n",
    "    \n",
    "    if not os.path.isdir(SAVE_PATH):\n",
    "        os.mkdir(SAVE_PATH)\n",
    "    df.to_csv(SAVE_PATH + \"metadata.csv\", index=False, header=True)\n",
    "    print(\"save\")\n",
    "\n",
    "    return df"
   ]
  },
  {
   "cell_type": "code",
   "execution_count": 48,
   "metadata": {},
   "outputs": [
    {
     "name": "stderr",
     "output_type": "stream",
     "text": [
      "100%|██████████| 5/5 [00:00<00:00, 5001.55it/s]"
     ]
    },
    {
     "name": "stdout",
     "output_type": "stream",
     "text": [
      "save\n"
     ]
    },
    {
     "name": "stderr",
     "output_type": "stream",
     "text": [
      "\n"
     ]
    },
    {
     "data": {
      "text/html": [
       "<div>\n",
       "<style scoped>\n",
       "    .dataframe tbody tr th:only-of-type {\n",
       "        vertical-align: middle;\n",
       "    }\n",
       "\n",
       "    .dataframe tbody tr th {\n",
       "        vertical-align: top;\n",
       "    }\n",
       "\n",
       "    .dataframe thead th {\n",
       "        text-align: right;\n",
       "    }\n",
       "</style>\n",
       "<table border=\"1\" class=\"dataframe\">\n",
       "  <thead>\n",
       "    <tr style=\"text-align: right;\">\n",
       "      <th></th>\n",
       "      <th>file_name</th>\n",
       "      <th>text</th>\n",
       "      <th>description</th>\n",
       "      <th>data_id</th>\n",
       "    </tr>\n",
       "  </thead>\n",
       "  <tbody>\n",
       "    <tr>\n",
       "      <th>0</th>\n",
       "      <td>C_Source_295013_pie_standard.jpg</td>\n",
       "      <td>대상: \\n제목: 2016년 표백제에 대한 위험성 인식\\n유형: 단일형 원형\\n |...</td>\n",
       "      <td>설명: 2016년 표백제에 대한 위험성 인식을 나타낸 원형 그래프이다. 2016년 ...</td>\n",
       "      <td>C_Source_295013_pie_standard</td>\n",
       "    </tr>\n",
       "    <tr>\n",
       "      <th>1</th>\n",
       "      <td>C_Source_295014_pie_standard.jpg</td>\n",
       "      <td>대상: \\n제목: 2016년 합성세제에 대한 위험성 인식\\n유형: 단일형 원형\\n ...</td>\n",
       "      <td>설명: 2016년 합성세제에 대한 위험성 인식을 나타낸 원형 그래프이다. 2016년...</td>\n",
       "      <td>C_Source_295014_pie_standard</td>\n",
       "    </tr>\n",
       "    <tr>\n",
       "      <th>2</th>\n",
       "      <td>C_Source_295016_pie_standard.jpg</td>\n",
       "      <td>대상: \\n제목: SMS등 통한 선거 참여 확대를 위한 선거법 개정의 필요성\\n유형...</td>\n",
       "      <td>설명: SNS등 통한 선거 참여 확대를 위한 선거법 개정의 필요성에 대해 나타낸 원...</td>\n",
       "      <td>C_Source_295016_pie_standard</td>\n",
       "    </tr>\n",
       "    <tr>\n",
       "      <th>3</th>\n",
       "      <td>C_Source_295018_pie_standard.jpg</td>\n",
       "      <td>대상: \\n제목: 위험요소별 경험 유무 : 가정폭력\\n유형: 단일형 원형\\n | 피...</td>\n",
       "      <td>설명: 경험 유무 중 가정폭력에 대해 나타낸 원형 그래프이다. 경험 유무 중 가정폭...</td>\n",
       "      <td>C_Source_295018_pie_standard</td>\n",
       "    </tr>\n",
       "    <tr>\n",
       "      <th>4</th>\n",
       "      <td>C_Source_295885_pie_standard.jpg</td>\n",
       "      <td>대상: \\n제목: 스마트폰 사용자의 가정폭력 경험 여부\\n유형: 단일형 원형\\n |...</td>\n",
       "      <td>설명: 스마트폰 사용자의 가정폭력 경험 여부를 나타낸 원형 그래프이다. 스마트폰 사...</td>\n",
       "      <td>C_Source_295885_pie_standard</td>\n",
       "    </tr>\n",
       "  </tbody>\n",
       "</table>\n",
       "</div>"
      ],
      "text/plain": [
       "                          file_name  \\\n",
       "0  C_Source_295013_pie_standard.jpg   \n",
       "1  C_Source_295014_pie_standard.jpg   \n",
       "2  C_Source_295016_pie_standard.jpg   \n",
       "3  C_Source_295018_pie_standard.jpg   \n",
       "4  C_Source_295885_pie_standard.jpg   \n",
       "\n",
       "                                                text  \\\n",
       "0  대상: \\n제목: 2016년 표백제에 대한 위험성 인식\\n유형: 단일형 원형\\n |...   \n",
       "1  대상: \\n제목: 2016년 합성세제에 대한 위험성 인식\\n유형: 단일형 원형\\n ...   \n",
       "2  대상: \\n제목: SMS등 통한 선거 참여 확대를 위한 선거법 개정의 필요성\\n유형...   \n",
       "3  대상: \\n제목: 위험요소별 경험 유무 : 가정폭력\\n유형: 단일형 원형\\n | 피...   \n",
       "4  대상: \\n제목: 스마트폰 사용자의 가정폭력 경험 여부\\n유형: 단일형 원형\\n |...   \n",
       "\n",
       "                                         description  \\\n",
       "0  설명: 2016년 표백제에 대한 위험성 인식을 나타낸 원형 그래프이다. 2016년 ...   \n",
       "1  설명: 2016년 합성세제에 대한 위험성 인식을 나타낸 원형 그래프이다. 2016년...   \n",
       "2  설명: SNS등 통한 선거 참여 확대를 위한 선거법 개정의 필요성에 대해 나타낸 원...   \n",
       "3  설명: 경험 유무 중 가정폭력에 대해 나타낸 원형 그래프이다. 경험 유무 중 가정폭...   \n",
       "4  설명: 스마트폰 사용자의 가정폭력 경험 여부를 나타낸 원형 그래프이다. 스마트폰 사...   \n",
       "\n",
       "                        data_id  \n",
       "0  C_Source_295013_pie_standard  \n",
       "1  C_Source_295014_pie_standard  \n",
       "2  C_Source_295016_pie_standard  \n",
       "3  C_Source_295018_pie_standard  \n",
       "4  C_Source_295885_pie_standard  "
      ]
     },
     "execution_count": 48,
     "metadata": {},
     "output_type": "execute_result"
    }
   ],
   "source": [
    "main(IMAGE_PATH, JSON_PATH, SAVE_PATH)"
   ]
  },
  {
   "cell_type": "code",
   "execution_count": null,
   "metadata": {},
   "outputs": [],
   "source": []
  }
 ],
 "metadata": {
  "kernelspec": {
   "display_name": "base",
   "language": "python",
   "name": "python3"
  },
  "language_info": {
   "codemirror_mode": {
    "name": "ipython",
    "version": 3
   },
   "file_extension": ".py",
   "mimetype": "text/x-python",
   "name": "python",
   "nbconvert_exporter": "python",
   "pygments_lexer": "ipython3",
   "version": "3.12.4"
  }
 },
 "nbformat": 4,
 "nbformat_minor": 2
}
