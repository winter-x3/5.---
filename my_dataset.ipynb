{
 "cells": [
  {
   "cell_type": "code",
   "execution_count": 19,
   "metadata": {},
   "outputs": [],
   "source": [
    "IMAGE_PATH = '../Data/temp/IMAGE/'  # 이미지 파일들이 들어있는 경로\n",
    "JSON_PATH = '../Data/temp/JSON/'  # JSON 파일들이 들어있는 경로\n",
    "SAVE_PATH = '../Data/temp/metadata/'  # 결과 파일을 저장할 경로"
   ]
  },
  {
   "cell_type": "code",
   "execution_count": 20,
   "metadata": {},
   "outputs": [],
   "source": [
    "import json\n",
    "import numpy as np\n",
    "import pandas as pd\n",
    "import os\n",
    "from tqdm import tqdm"
   ]
  },
  {
   "cell_type": "markdown",
   "metadata": {},
   "source": [
    "JSON 파일의 정보를 리스트로 저장"
   ]
  },
  {
   "cell_type": "code",
   "execution_count": 21,
   "metadata": {},
   "outputs": [],
   "source": [
    "def chart_data(data):\n",
    "    datatable = []    \n",
    "    num = len(data)\n",
    "    \n",
    "    for n in range(num):\n",
    "        # 제목, 범례, 데이터 레이블, 단위, 기준 값 추출\n",
    "        title = data[n]['title'] if data[n]['is_title'] else ''\n",
    "        legend = data[n]['legend'] if data[n]['is_legend'] else ''\n",
    "        datalabel = data[n]['data_label'] if data[n]['is_datalabel'] else [0]\n",
    "        unit = data[n]['unit'] if data[n]['is_unit'] else ''\n",
    "        base = data[n]['base'] if data[n]['is_base'] else ''\n",
    "        \n",
    "        # 원형 차트에는 축 데이터(x_axis, y_axis)가 필요하지 않으므로 제거\n",
    "        if len(legend) > 1:\n",
    "            datalabel = np.array(datalabel).transpose().tolist()\n",
    "        \n",
    "        # datatable 리스트에 추가\n",
    "        datatable.append([title, legend, datalabel, unit, base])\n",
    "        \n",
    "    return datatable\n"
   ]
  },
  {
   "cell_type": "markdown",
   "metadata": {},
   "source": [
    "chart_data()에서 변환된 리스트를 사용할 수 있는 텍스트의 형태로 변환"
   ]
  },
  {
   "cell_type": "code",
   "execution_count": 22,
   "metadata": {},
   "outputs": [],
   "source": [
    "def datatable(data, chart_type):\n",
    "    data_table = ''\n",
    "    num = len(data)\n",
    "    \n",
    "    # 원형 차트만 처리\n",
    "    for n in range(num):\n",
    "        temp = []\n",
    "        \n",
    "        # 제목, 범례, 데이터 레이블, 단위 등을 설정\n",
    "        title, legend, datalabel, unit, base, x_axis_title, y_axis_title, x_axis, y_axis = data[n]\n",
    "        legend = [element + f\"({unit})\" for element in legend]\n",
    "        \n",
    "        # 범례가 여러 개 있을 때 처리\n",
    "        if len(legend) > 1:\n",
    "            temp.append(f\"대상: {base}\")\n",
    "            temp.append(f\"제목: {title}\")\n",
    "            temp.append(f\"유형: {' '.join(chart_type[0:2])}\")\n",
    "            temp.append(f\"{x_axis_title} | {' | '.join(legend)}\")\n",
    "            \n",
    "            # 원형 차트 데이터 처리\n",
    "            datalabel = sum(datalabel, [])  # 원형 차트는 데이터가 한 줄로 합쳐짐\n",
    "            temp.append(f\"{' | '.join([str(d) for d in datalabel])}\")\n",
    "            data_table = '\\n'.join(temp)\n",
    "        \n",
    "        # 범례가 하나일 때 처리\n",
    "        else:\n",
    "            temp.append(f\"대상: {base}\")\n",
    "            temp.append(f\"제목: {title}\")\n",
    "            temp.append(f\"유형: {' '.join(chart_type[0:2])}\")\n",
    "            temp.append(f\"{x_axis_title} | {unit}\")\n",
    "            \n",
    "            # 원형 차트의 데이터 레이블 추가\n",
    "            datalabel = datalabel[0]  # 데이터가 한 개일 때\n",
    "            for idx, x in enumerate(x_axis):\n",
    "                row = f\"{x} | {str(datalabel[idx])}\"\n",
    "                temp.append(row)\n",
    "            data_table = '\\n'.join(temp)\n",
    "    \n",
    "    return data_table"
   ]
  },
  {
   "cell_type": "markdown",
   "metadata": {},
   "source": [
    "파일을 가져오고, "
   ]
  },
  {
   "cell_type": "code",
   "execution_count": 23,
   "metadata": {},
   "outputs": [],
   "source": [
    "def main(IMAGE_PATH, JSON_PATH, SAVE_PATH):\n",
    "    #이미지 파일을 가져옴\n",
    "    image_file_list = os.listdir(IMAGE_PATH) \n",
    "    \n",
    "    dataset = []\n",
    "    for image_file in tqdm(image_file_list):\n",
    "        #이미지 파일에 대응하는 JSON 파일을 가져옴\n",
    "        data_id = image_file.split(\".jpg\")[0]\n",
    "        json_file_name = image_file.replace(\"Source\", \"Label\").split(\".jpg\")[0] + \".json\"\n",
    "        \n",
    "        with open(JSON_PATH + json_file_name, \"r\") as f:\n",
    "            json_data = json.load(f)\n",
    "        \n",
    "        #차트 유형 정보를 가져옴\n",
    "        chart_multi = json_data['metadata']['chart_multi']\n",
    "        chart_main = json_data['metadata']['chart_main']\n",
    "        chart_sub = json_data['metadata']['chart_sub']\n",
    "        chart_type = [chart_multi, chart_sub, chart_main]\n",
    "        \n",
    "        #라벨링데이터의 설명문과 요약문을 불러옴\n",
    "        chart_annotations = json_data['annotations']\n",
    "        description = \"설명: \" + json_data[\"description\"].strip()\n",
    "        summary = \"요약: \" + \"\\\\\".join(json_data[\"summary\"])\n",
    "        texts = description + \"\\n\" + summary\n",
    "        \n",
    "        #차트 데이터를 리스트로 불러오기\n",
    "        try:\n",
    "            charData = chart_data(chart_annotations)\n",
    "        except:\n",
    "            pass\n",
    "        \n",
    "        #차트 데이터를 텍스트로 가져옴\n",
    "        try:\n",
    "            dataTable = datatable(charData, chart_type)\n",
    "            dataset.append([image_file, dataTable, texts, data_id])\n",
    "        except:\n",
    "            pass\n",
    "    \n",
    "    df = pd.DataFrame(dataset, columns=[\"file_name\", \"text\", \"description\", \"data_id\"])\n",
    "    \n",
    "    if not os.path.isdir(SAVE_PATH):\n",
    "        os.mkdir(SAVE_PATH)\n",
    "    df.to_csv(SAVE_PATH + \"metadata.csv\", index=False, header=True)\n",
    "    print(\"save\")\n",
    "\n",
    "    return df"
   ]
  },
  {
   "cell_type": "code",
   "execution_count": 24,
   "metadata": {},
   "outputs": [
    {
     "name": "stderr",
     "output_type": "stream",
     "text": [
      "100%|██████████| 5/5 [00:00<00:00, 2252.82it/s]"
     ]
    },
    {
     "name": "stdout",
     "output_type": "stream",
     "text": [
      "save\n"
     ]
    },
    {
     "name": "stderr",
     "output_type": "stream",
     "text": [
      "\n"
     ]
    },
    {
     "data": {
      "text/html": [
       "<div>\n",
       "<style scoped>\n",
       "    .dataframe tbody tr th:only-of-type {\n",
       "        vertical-align: middle;\n",
       "    }\n",
       "\n",
       "    .dataframe tbody tr th {\n",
       "        vertical-align: top;\n",
       "    }\n",
       "\n",
       "    .dataframe thead th {\n",
       "        text-align: right;\n",
       "    }\n",
       "</style>\n",
       "<table border=\"1\" class=\"dataframe\">\n",
       "  <thead>\n",
       "    <tr style=\"text-align: right;\">\n",
       "      <th></th>\n",
       "      <th>file_name</th>\n",
       "      <th>text</th>\n",
       "      <th>description</th>\n",
       "      <th>data_id</th>\n",
       "    </tr>\n",
       "  </thead>\n",
       "  <tbody>\n",
       "  </tbody>\n",
       "</table>\n",
       "</div>"
      ],
      "text/plain": [
       "Empty DataFrame\n",
       "Columns: [file_name, text, description, data_id]\n",
       "Index: []"
      ]
     },
     "execution_count": 24,
     "metadata": {},
     "output_type": "execute_result"
    }
   ],
   "source": [
    "main(IMAGE_PATH, JSON_PATH, SAVE_PATH)"
   ]
  },
  {
   "cell_type": "code",
   "execution_count": null,
   "metadata": {},
   "outputs": [],
   "source": []
  }
 ],
 "metadata": {
  "kernelspec": {
   "display_name": "base",
   "language": "python",
   "name": "python3"
  },
  "language_info": {
   "codemirror_mode": {
    "name": "ipython",
    "version": 3
   },
   "file_extension": ".py",
   "mimetype": "text/x-python",
   "name": "python",
   "nbconvert_exporter": "python",
   "pygments_lexer": "ipython3",
   "version": "3.12.4"
  }
 },
 "nbformat": 4,
 "nbformat_minor": 2
}
