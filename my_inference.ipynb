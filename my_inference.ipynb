{
 "cells": [
  {
   "cell_type": "code",
   "execution_count": 2,
   "metadata": {},
   "outputs": [],
   "source": [
    "from datasets import load_dataset\n",
    "from transformers import AutoProcessor, Pix2StructForConditionalGeneration, T5Tokenizer, T5ForConditionalGeneration\n",
    "import torch\n",
    "from datetime import datetime\n",
    "from pytz import timezone\n",
    "from tqdm import tqdm\n",
    "import pandas as pd\n",
    "\n",
    "import warnings\n",
    "warnings.filterwarnings('ignore')"
   ]
  },
  {
   "cell_type": "markdown",
   "metadata": {},
   "source": [
    "데이터 경로 입력"
   ]
  },
  {
   "cell_type": "code",
   "execution_count": 4,
   "metadata": {},
   "outputs": [
    {
     "name": "stderr",
     "output_type": "stream",
     "text": [
      "usage: ipykernel_launcher.py [-h] [--data_path DATA_PATH]\n",
      "ipykernel_launcher.py: error: unrecognized arguments: --f=c:\\Users\\dodam\\AppData\\Roaming\\jupyter\\runtime\\kernel-v3830eaceaf491142af6a714e23a4ecdff9434e208.json\n"
     ]
    },
    {
     "ename": "SystemExit",
     "evalue": "2",
     "output_type": "error",
     "traceback": [
      "An exception has occurred, use %tb to see the full traceback.\n",
      "\u001b[1;31mSystemExit\u001b[0m\u001b[1;31m:\u001b[0m 2\n"
     ]
    }
   ],
   "source": [
    "import argparse\n",
    "parser = argparse.ArgumentParser(description=\"infer\")\n",
    "parser.add_argument(\"--data_path\", \"-data_path\", type=str, help=\"저장된 데이터셋 경로\")\n",
    "args = parser.parse_args()\n",
    "\n",
    "#사용할 패치의 최대값\n",
    "MAX_PATCHES = 512"
   ]
  },
  {
   "cell_type": "markdown",
   "metadata": {},
   "source": [
    "모델 평가 함수 정의"
   ]
  },
  {
   "cell_type": "markdown",
   "metadata": {},
   "source": []
  },
  {
   "cell_type": "code",
   "execution_count": null,
   "metadata": {},
   "outputs": [],
   "source": [
    "def eval(dataset, deplot_model_path, t5_model_path, device):\n",
    "    \n",
    "    # DEPLOT 모델과 Processor 로딩\n",
    "    processor = AutoProcessor.from_pretrained(\"ybelkada/pix2struct-base\")\n",
    "    deplot_model = Pix2StructForConditionalGeneration.from_pretrained(\"ybelkada/pix2struct-base\")\n",
    "    deplot_model.load_state_dict(torch.load(deplot_model_path))  # DEPLOT 모델 체크포인트 로드\n",
    "    \n",
    "    # KE-T5 모델과 토크나이저 로딩\n",
    "    tokenizer = T5Tokenizer.from_pretrained(\"KETI-AIR/ke-t5-base\")\n",
    "    t5_model = T5ForConditionalGeneration.from_pretrained(\"KETI-AIR/ke-t5-base\")\n",
    "    t5_model.load_state_dict(torch.load(t5_model_path))  # KE-T5 모델 체크포인트 로드\n",
    "\n",
    "    # 모델을 GPU 또는 CPU로 이동\n",
    "    deplot_model.to(device)\n",
    "    t5_model.to(device)\n",
    "    \n",
    "    # 모델을 평가 모드로 전환\n",
    "    deplot_model.eval()\n",
    "    t5_model.eval()\n",
    "    \n",
    "    # 설명 텍스트의 최대 길이 설정\n",
    "    max_length = max([len(text) for text in dataset[\"description\"]])\n",
    "\n",
    "    # 평가 로그 파일 열기\n",
    "    f = open(\"/result/outputs/evaluation_log.txt\", \"a\")\n",
    "    current_time = datetime.now(timezone('Asia/Seoul'))\n",
    "    print(f\"Start: {current_time} Data: {len(dataset)}\")\n",
    "    f.write(f\"Start: {current_time} Data: {len(dataset)}\")\n",
    "    \n",
    "    data_list = []  # 결과 데이터를 저장할 리스트\n",
    "    \n",
    "    # 데이터셋을 반복 처리\n",
    "    for idx in tqdm(range(len(dataset))):\n",
    "        data_id = dataset[idx]['data_id']  # 데이터 ID\n",
    "        image = dataset[idx]['image']  # 이미지 데이터\n",
    "        datatable_label = dataset[idx][\"text\"]  # 실제 라벨 (표 데이터)\n",
    "        text_label = dataset[idx][\"description\"]  # 실제 설명 텍스트\n",
    "\n",
    "        # 이미지를 전처리하여 모델에 입력\n",
    "        inputs = processor(images=image, return_tensors=\"pt\", max_patches=MAX_PATCHES).to(device)\n",
    "        flattened_patches = inputs.flattened_patches\n",
    "        attention_mask = inputs.attention_mask\n",
    "\n",
    "        # DEPLOT 모델을 사용해 이미지에서 표 데이터 생성\n",
    "        deplot_generated_ids = deplot_model.generate(flattened_patches=flattened_patches, attention_mask=attention_mask, max_length=1000)\n",
    "        generated_datatable = processor.batch_decode(deplot_generated_ids, skip_special_token=True)[0]\n",
    "        generated_datatable = generated_datatable.replace(\"<pad>\", \"\").replace(\"<unk>\", \"\").replace(\"</s>\", \"\")\n",
    "\n",
    "        # KE-T5 모델을 사용하여 텍스트 생성\n",
    "        tokenized_text = tokenizer.encode(generated_datatable, return_tensors='pt').to(device)\n",
    "        t5_generated_ids = t5_model.generate(tokenized_text, max_length=max_length, num_beams=4, repetition_penalty=5.0, length_penalty=1.0, early_stopping=True, temperature=0.6)\n",
    "        preds = [tokenizer.decode(g, skip_special_tokens=True, clean_up_tokenization_spaces=True) for g in t5_generated_ids]\n",
    "\n",
    "        # 결과 저장\n",
    "        data_list.append([data_id, generated_datatable, datatable_label, preds, text_label])\n",
    "    \n",
    "    # 평가 종료 시간 기록\n",
    "    current_time = datetime.now(timezone('Asia/Seoul'))\n",
    "    print(f\"End: {current_time} Data: {len(dataset)}\")\n",
    "    f.write(f\"End: {current_time} Data: {len(dataset)}\")\n",
    "\n",
    "    # 결과를 데이터프레임으로 변환하여 반환\n",
    "    df = pd.DataFrame(data=data_list, columns=[\"data_id\", \"generated_table\", \"label_table\", \"generated_text\", \"label_text\"])\n",
    "    return df"
   ]
  },
  {
   "cell_type": "markdown",
   "metadata": {},
   "source": [
    "메인 함수 실행 (추론 과정 실행)"
   ]
  },
  {
   "cell_type": "code",
   "execution_count": null,
   "metadata": {},
   "outputs": [],
   "source": [
    "if __name__ == '__main__':\n",
    "    \n",
    "    # 사용할 디바이스 결정 (GPU 또는 CPU)\n",
    "    device = \"cuda\" if torch.cuda.is_available() else \"cpu\"\n",
    "    print(f\"device : {device}\")\n",
    "\n",
    "    # 데이터셋 로딩 (이미지 폴더에서 이미지 불러오기)\n",
    "    dataset = load_dataset(\"imagefolder\", data_dir=args.data_path, split=\"train\")\n",
    "    \n",
    "    # 모델 경로 설정\n",
    "    deplot_model_path = \"../model/deplot_k.pt\"\n",
    "    t5_model_path = \"../model/ke_t5.pt\"\n",
    "   \n",
    "    # eval 함수 호출하여 추론 실행\n",
    "    result_df = eval(dataset, deplot_model_path, t5_model_path, device)\n",
    "    \n",
    "    # 결과를 CSV 파일로 저장\n",
    "    result_df.to_csv(\"../outputs/result.csv\", index=False, header=True)\n"
   ]
  }
 ],
 "metadata": {
  "kernelspec": {
   "display_name": "base",
   "language": "python",
   "name": "python3"
  },
  "language_info": {
   "codemirror_mode": {
    "name": "ipython",
    "version": 3
   },
   "file_extension": ".py",
   "mimetype": "text/x-python",
   "name": "python",
   "nbconvert_exporter": "python",
   "pygments_lexer": "ipython3",
   "version": "3.12.4"
  }
 },
 "nbformat": 4,
 "nbformat_minor": 2
}
