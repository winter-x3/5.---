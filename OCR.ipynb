{
 "cells": [
  {
   "cell_type": "code",
   "execution_count": 3,
   "metadata": {},
   "outputs": [],
   "source": [
    "import zipfile\n",
    "\n",
    "with zipfile.ZipFile('../3. 개방데이터/1.데이터/Validation/02.라벨링데이터/VL_텍스트_원형_원형.zip', 'r') as zip_ref:\n",
    "    zip_ref.extractall('../4. 데이터_원형차트/Validation/라벨링데이터')"
   ]
  },
  {
   "cell_type": "markdown",
   "metadata": {},
   "source": [
    "OCR 1 : tesseract 사용"
   ]
  },
  {
   "cell_type": "code",
   "execution_count": 15,
   "metadata": {},
   "outputs": [
    {
     "name": "stdout",
     "output_type": "stream",
     "text": [
      "추출된 텍스트:\n",
      "[그림 6-8] 정신질환자 가족의 전반직 건강\n",
      "\n",
      "중음 /머우옹음\n",
      "\n",
      "보등\n",
      "\n",
      "\n"
     ]
    }
   ],
   "source": [
    "import pytesseract\n",
    "from PIL import Image\n",
    "\n",
    "#Tesseract 경로 설정 (Windows 사용자만 필요)\n",
    "pytesseract.pytesseract.tesseract_cmd = r'C:/Program Files/Tesseract-OCR/tesseract.exe'\n",
    "\n",
    "# 이미지에서 텍스트 추출 함수\n",
    "def extract_text_from_image(image_path):\n",
    "    # 이미지 불러오기\n",
    "    image = Image.open(image_path)\n",
    "    \n",
    "    # OCR로 텍스트 추출 (한국어 차트라면 'lang='kor' 추가)\n",
    "    extracted_text = pytesseract.image_to_string(image, lang='kor')  # 한국어 차트를 대상으로 OCR 수행\n",
    "    return extracted_text\n",
    "\n",
    "# 예시 이미지 경로 (차트 이미지 파일)\n",
    "image_path = \"../4. 데이터_원형차트/Training/원천데이터_이미지/C_Source_000014_pie_standard.jpg\"\n",
    "\n",
    "# OCR 수행\n",
    "extracted_text = extract_text_from_image(image_path)\n",
    "print(\"추출된 텍스트:\")\n",
    "print(extracted_text)"
   ]
  },
  {
   "cell_type": "markdown",
   "metadata": {},
   "source": [
    "OCR 2 : PaddleOCR 사용"
   ]
  },
  {
   "cell_type": "code",
   "execution_count": 16,
   "metadata": {},
   "outputs": [],
   "source": [
    "import os\n",
    "os.environ[\"KMP_DUPLICATE_LIB_OK\"] = \"TRUE\""
   ]
  },
  {
   "cell_type": "code",
   "execution_count": 21,
   "metadata": {},
   "outputs": [
    {
     "name": "stdout",
     "output_type": "stream",
     "text": [
      "[2024/09/22 12:48:30] ppocr DEBUG: Namespace(help='==SUPPRESS==', use_gpu=False, use_xpu=False, use_npu=False, use_mlu=False, ir_optim=True, use_tensorrt=False, min_subgraph_size=15, precision='fp32', gpu_mem=500, gpu_id=0, image_dir=None, page_num=0, det_algorithm='DB', det_model_dir='C:\\\\Users\\\\dodam/.paddleocr/whl\\\\det\\\\ml\\\\Multilingual_PP-OCRv3_det_infer', det_limit_side_len=960, det_limit_type='max', det_box_type='quad', det_db_thresh=0.3, det_db_box_thresh=0.6, det_db_unclip_ratio=1.5, max_batch_size=10, use_dilation=False, det_db_score_mode='fast', det_east_score_thresh=0.8, det_east_cover_thresh=0.1, det_east_nms_thresh=0.2, det_sast_score_thresh=0.5, det_sast_nms_thresh=0.2, det_pse_thresh=0, det_pse_box_thresh=0.85, det_pse_min_area=16, det_pse_scale=1, scales=[8, 16, 32], alpha=1.0, beta=1.0, fourier_degree=5, rec_algorithm='SVTR_LCNet', rec_model_dir='C:\\\\Users\\\\dodam/.paddleocr/whl\\\\rec\\\\korean\\\\korean_PP-OCRv4_rec_infer', rec_image_inverse=True, rec_image_shape='3, 48, 320', rec_batch_num=6, max_text_length=25, rec_char_dict_path='c:\\\\Users\\\\dodam\\\\anaconda3\\\\Lib\\\\site-packages\\\\paddleocr\\\\ppocr\\\\utils\\\\dict\\\\korean_dict.txt', use_space_char=True, vis_font_path='./doc/fonts/simfang.ttf', drop_score=0.5, e2e_algorithm='PGNet', e2e_model_dir=None, e2e_limit_side_len=768, e2e_limit_type='max', e2e_pgnet_score_thresh=0.5, e2e_char_dict_path='./ppocr/utils/ic15_dict.txt', e2e_pgnet_valid_set='totaltext', e2e_pgnet_mode='fast', use_angle_cls=True, cls_model_dir='C:\\\\Users\\\\dodam/.paddleocr/whl\\\\cls\\\\ch_ppocr_mobile_v2.0_cls_infer', cls_image_shape='3, 48, 192', label_list=['0', '180'], cls_batch_num=6, cls_thresh=0.9, enable_mkldnn=False, cpu_threads=10, use_pdserving=False, warmup=False, sr_model_dir=None, sr_image_shape='3, 32, 128', sr_batch_num=1, draw_img_save_dir='./inference_results', save_crop_res=False, crop_res_save_dir='./output', use_mp=False, total_process_num=1, process_id=0, benchmark=False, save_log_path='./log_output/', show_log=True, use_onnx=False, return_word_box=False, output='./output', table_max_len=488, table_algorithm='TableAttn', table_model_dir=None, merge_no_span_structure=True, table_char_dict_path=None, layout_model_dir=None, layout_dict_path=None, layout_score_threshold=0.5, layout_nms_threshold=0.5, kie_algorithm='LayoutXLM', ser_model_dir=None, re_model_dir=None, use_visual_backbone=True, ser_dict_path='../train_data/XFUND/class_list_xfun.txt', ocr_order_method=None, mode='structure', image_orientation=False, layout=True, table=True, ocr=True, recovery=False, use_pdf2docx_api=False, invert=False, binarize=False, alphacolor=(255, 255, 255), lang='korean', det=True, rec=True, type='ocr', savefile=False, ocr_version='PP-OCRv4', structure_version='PP-StructureV2')\n",
      "[2024/09/22 12:48:33] ppocr DEBUG: dt_boxes num : 7, elapsed : 0.18943476676940918\n",
      "[2024/09/22 12:48:33] ppocr DEBUG: cls num  : 7, elapsed : 0.07527375221252441\n",
      "[2024/09/22 12:48:34] ppocr DEBUG: rec_res num  : 7, elapsed : 1.0465896129608154\n",
      "추출된 텍스트:\n",
      "기업부실면구수 유무 [기업부설연구소] 있음 113% 없음 887%\n"
     ]
    }
   ],
   "source": [
    "from paddleocr import PaddleOCR\n",
    "\n",
    "# PaddleOCR 초기화 (한국어 설정)\n",
    "ocr = PaddleOCR(use_angle_cls=True, lang='korean')\n",
    "\n",
    "# 이미지에서 텍스트 추출 함수\n",
    "def extract_text_paddleocr(image_path):\n",
    "    result = ocr.ocr(image_path)\n",
    "    extracted_text = \"\"\n",
    "    for line in result:\n",
    "        extracted_text += \" \".join([word_info[1][0] for word_info in line])\n",
    "    return extracted_text\n",
    "\n",
    "# 이미지 경로\n",
    "image_path = \"../4. 데이터_원형차트/Training/원천데이터_이미지/C_Source_000047_pie_standard.jpg\"\n",
    "\n",
    "# OCR 수행\n",
    "extracted_text = extract_text_paddleocr(image_path)\n",
    "print(\"추출된 텍스트:\")\n",
    "print(extracted_text)"
   ]
  },
  {
   "cell_type": "code",
   "execution_count": null,
   "metadata": {},
   "outputs": [],
   "source": []
  }
 ],
 "metadata": {
  "kernelspec": {
   "display_name": "base",
   "language": "python",
   "name": "python3"
  },
  "language_info": {
   "codemirror_mode": {
    "name": "ipython",
    "version": 3
   },
   "file_extension": ".py",
   "mimetype": "text/x-python",
   "name": "python",
   "nbconvert_exporter": "python",
   "pygments_lexer": "ipython3",
   "version": "3.12.4"
  }
 },
 "nbformat": 4,
 "nbformat_minor": 2
}
